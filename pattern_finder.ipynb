{
 "cells": [
  {
   "cell_type": "code",
   "execution_count": null,
   "metadata": {},
   "outputs": [],
   "source": [
    "# default_exp core"
   ]
  },
  {
   "cell_type": "markdown",
   "metadata": {
    "colab_type": "text",
    "id": "vosA89WEixQc"
   },
   "source": [
    "# pandas temporal query language\n",
    "\n",
    "\n",
    "\n"
   ]
  },
  {
   "cell_type": "code",
   "execution_count": 0,
   "metadata": {
    "colab": {},
    "colab_type": "code",
    "id": "l9smRfNEU7kL"
   },
   "outputs": [],
   "source": [
    "#export\n",
    "\n",
    "import re\n",
    "import numpy as np\n",
    "import pandas as pd\n",
    "from functools import singledispatch"
   ]
  },
  {
   "cell_type": "markdown",
   "metadata": {
    "colab_type": "text",
    "id": "LJgdBxlWEy-r"
   },
   "source": [
    "# General helper functions"
   ]
  },
  {
   "cell_type": "markdown",
   "metadata": {
    "colab_type": "text",
    "id": "qG9pbooAEst9"
   },
   "source": [
    "## Info"
   ]
  },
  {
   "cell_type": "code",
   "execution_count": 0,
   "metadata": {
    "colab": {},
    "colab_type": "code",
    "id": "SVQwSQ67O_8x"
   },
   "outputs": [],
   "source": [
    "#export\n",
    "class Info():\n",
    "  \"\"\"\n",
    "  A class to store information about the data and results from analysis\n",
    "  \"\"\"\n",
    "  def __init__(self):\n",
    "      self.evaluated = {}"
   ]
  },
  {
   "cell_type": "markdown",
   "metadata": {
    "colab_type": "text",
    "id": "P4-2Ic_OF3Gl"
   },
   "source": [
    "## memory"
   ]
  },
  {
   "cell_type": "code",
   "execution_count": 0,
   "metadata": {
    "colab": {},
    "colab_type": "code",
    "id": "Rpi14aJEFxot"
   },
   "outputs": [],
   "source": [
    "#export\n",
    "def memory(info, func, expr):\n",
    "  \"\"\"\n",
    "  checks if the function has been called with the same argument previously and\n",
    "  if so, returns the same results instead of running the function again\n",
    "\n",
    "  args:\n",
    "    -\n",
    "  \"\"\"\n",
    "  rows=None\n",
    "  if info:\n",
    "    if func in info.evaluated:\n",
    "      if expr in info.evaluated[func]:\n",
    "        rows = info.evaluated[func][expr]\n",
    "    else:\n",
    "      info.evaluated[func] = {}\n",
    "  else:\n",
    "    info = Info()\n",
    "    info.evaluated[func] = {}\n",
    "  return info, rows"
   ]
  },
  {
   "cell_type": "markdown",
   "metadata": {
    "colab_type": "text",
    "id": "K9tHjHXQEoAo"
   },
   "source": [
    "## listify"
   ]
  },
  {
   "cell_type": "code",
   "execution_count": 0,
   "metadata": {
    "colab": {},
    "colab_type": "code",
    "id": "VBF5ZPs2EoAw"
   },
   "outputs": [],
   "source": [
    "#export\n",
    "def listify(string_or_list):\n",
    "    \"\"\"\n",
    "    return a list if the input is a string, if not: returns the input as it was\n",
    "\n",
    "    Args:\n",
    "        string_or_list (str or any):\n",
    "\n",
    "    Returns:\n",
    "        A list if the input is a string, if not: returns the input as it was\n",
    "\n",
    "    Note:\n",
    "        - allows user to use a string as an argument instead of single lists\n",
    "        - cols='icd10' is allowed instead of cols=['icd10']\n",
    "        - cols='icd10' is transformed to cols=['icd10'] by this function\n",
    "\n",
    "    \"\"\"\n",
    "    if isinstance(string_or_list, str):\n",
    "        string_or_list = [string_or_list]\n",
    "    return string_or_list"
   ]
  },
  {
   "cell_type": "markdown",
   "metadata": {
    "colab_type": "text",
    "id": "YQhtgvn7EUSN"
   },
   "source": [
    "## unique"
   ]
  },
  {
   "cell_type": "code",
   "execution_count": 0,
   "metadata": {
    "colab": {},
    "colab_type": "code",
    "id": "WCH02_MBEY_s"
   },
   "outputs": [],
   "source": [
    "#export\n",
    "# A function to identify all unique values in one or more columns\n",
    "# with one or multiple codes in each cell\n",
    "\n",
    "def unique(df, cols=None, sep=None, all_str=True):\n",
    "  \"\"\"\n",
    "  Lists unique values from one or more columns\n",
    "\n",
    "  sep (str): separator if cells have multiple values\n",
    "  all_str (bool): converts all values to strings\n",
    "\n",
    "  unique(df=df, cols='inpatient', sep=',')\n",
    "  \"\"\"\n",
    "  # if no column(s) are specified, find unique values in whole dataframe\n",
    "  if cols==None:\n",
    "    cols=list(df.columns)\n",
    "  cols = listify(cols)\n",
    "\n",
    "  # multiple values with separator in cells\n",
    "  if sep:\n",
    "    all_unique=set()\n",
    "\n",
    "    for col in cols:\n",
    "      new_unique = set(df[col].str.cat(sep=',').split(','))\n",
    "      all_unique.update(new_unique)\n",
    "  # single valued cells\n",
    "  else:\n",
    "    all_unique = pd.unique(df[cols].values.ravel('K'))\n",
    "\n",
    "  # if need to make sure all elements are strings without surrounding spaces\n",
    "  if all_str:\n",
    "    all_unique=[str(value).strip() for value in all_unique]\n",
    "\n",
    "  return all_unique"
   ]
  },
  {
   "cell_type": "code",
   "execution_count": 0,
   "metadata": {
    "colab": {},
    "colab_type": "code",
    "id": "z69nIn-KK4az"
   },
   "outputs": [],
   "source": [
    "#unique(df=df, cols='codes', sep=',')"
   ]
  },
  {
   "cell_type": "markdown",
   "metadata": {
    "colab_type": "text",
    "id": "goKBivTUFNoU"
   },
   "source": [
    "## del dot and zero"
   ]
  },
  {
   "cell_type": "code",
   "execution_count": 0,
   "metadata": {
    "colab": {},
    "colab_type": "code",
    "id": "nk49gESsFNoY"
   },
   "outputs": [],
   "source": [
    "#export\n",
    "def del_dot(code):\n",
    "  if isinstance(code, str):\n",
    "    return code.replace('.','')\n",
    "  else:\n",
    "    codes = [c.replace('.','') for c in code]\n",
    "  return codes\n",
    "\n",
    "def del_zero(code, left=True, right=False):\n",
    "  if isinstance(codes, str):\n",
    "    codes=[code]\n",
    "  if left:\n",
    "    codes = [c.lstrip('0') for c in code]\n",
    "  if right:\n",
    "    codes = [c.rstrip('0') for c in code]\n",
    "  if isinstance(code, str):\n",
    "    codes=codes[0]\n",
    "  return codes"
   ]
  },
  {
   "cell_type": "markdown",
   "metadata": {
    "colab_type": "text",
    "id": "Hxm-5QiEFe60"
   },
   "source": [
    "# Notations"
   ]
  },
  {
   "cell_type": "markdown",
   "metadata": {
    "colab_type": "text",
    "id": "bEOTYsewSkaS"
   },
   "source": [
    "## expand hyphen"
   ]
  },
  {
   "cell_type": "code",
   "execution_count": 0,
   "metadata": {
    "colab": {},
    "colab_type": "code",
    "id": "2OwcbGI7Br2X"
   },
   "outputs": [],
   "source": [
    "#export\n",
    "# function to expand a string like 'K51.2-K53.8' to a list of codes\n",
    "\n",
    "# Need regex to extract the number component of the input string\n",
    "\n",
    "# The singledispach decorator enables us to have the same name, but use\n",
    "# different functions depending on the datatype of the first argument.\n",
    "#\n",
    "# In our case we want one function to deal with a single string input, and\n",
    "# another to handle a list of strings. It could all be handled in a single\n",
    "# function using nested if, but singledispatch makes it less messy and more fun!\n",
    "\n",
    "\n",
    "# Here is the main function, it is just the name and an error message if the\n",
    "# argument does not fit any of the inputs that wil be allowed\n",
    "\n",
    "@singledispatch\n",
    "def expand_hyphen(expr):\n",
    "  \"\"\"\n",
    "  Expands codes expression(s) that have hyphens to list of all codes\n",
    "\n",
    "  Args:\n",
    "      code (str or list of str): String or list of strings to be expanded\n",
    "\n",
    "  Returns:\n",
    "      List of strings\n",
    "\n",
    "  Examples:\n",
    "      expand_hyphen('C00*-C26*')\n",
    "      expand_hyphen('b01.1*-b09.9*')\n",
    "      expand_hyphen('n02.2-n02.7')\n",
    "      expand_hyphen('c00*-c260')\n",
    "      expand_hyphen('b01-b09')\n",
    "      expand_hyphen('b001.1*-b009.9*')\n",
    "      expand_hyphen(['b001.1*-b009.9*', 'c11-c15'])\n",
    "  Note:\n",
    "      Unequal number of decimals in start and end code is problematic.\n",
    "      Example: C26.0-C27.11 will not work since the meaning is not obvious:\n",
    "      Is the step size 0.01? In which case C27.1 will not be included, while\n",
    "      C27.10 will be (and traing zeros can be important in codes)\n",
    "  \"\"\"\n",
    "  raise ValueError('The argument must be a string or a list')\n",
    "\n",
    "# register the function to be used if the input is a string\n",
    "@expand_hyphen.register(str)\n",
    "def _(expr):\n",
    "    # return immediately if nothing to expand\n",
    "    if '-' not in expr:\n",
    "      return [expr]\n",
    "\n",
    "    lower, upper = expr.split('-')\n",
    "\n",
    "    lower=lower.strip()\n",
    "\n",
    "    # identify the numeric component of the code\n",
    "    lower_str = re.search(\"\\d*\\.\\d+|\\d+\", lower).group()\n",
    "    upper_str = re.search(\"\\d*\\.\\d+|\\d+\", upper).group()\n",
    "    # note: what about european decimal notation?\n",
    "    # also note: what if multiple groups K50.1J8.4-etc\n",
    "\n",
    "\n",
    "    lower_num = int(lower_str.replace('.',''))\n",
    "    upper_num = int(upper_str.replace('.','')) +1\n",
    "\n",
    "    if upper_num<lower_num:\n",
    "      raise ValueError('The start code cannot have a higher number than the end code')\n",
    "\n",
    "    # remember length in case of leading zeros\n",
    "    length = len(lower_str)\n",
    "\n",
    "    nums = range(lower_num, upper_num)\n",
    "\n",
    "    # must use integers in a loop, not floats\n",
    "    # which also means that we must multiply and divide to get decimal back\n",
    "    # and take care of leading and trailing zeros that may disappear\n",
    "    if '.' in lower_str:\n",
    "      lower_decimals = len(lower_str.split('.')[1])\n",
    "      upper_decimals = len(upper_str.split('.')[1])\n",
    "      if lower_decimals==upper_decimals:\n",
    "        multiplier = 10**lower_decimals\n",
    "        codes = [lower.replace(lower_str, format(num /multiplier, f'.{lower_decimals}f').zfill(length)) for num in nums]\n",
    "      # special case: allow k1.1-k1.123, but not k.1-k2.123 the last is ambigious: should it list k2.0 only 2.00?\n",
    "      elif (lower_decimals<upper_decimals) & (upper_str.split('.')[0]==lower_str.split('.')[0]):\n",
    "        from_decimal = int(lower_str.split('.')[1])\n",
    "        to_decimal = int(upper_str.split('.')[1]) +1\n",
    "        nums = range(from_decimal, to_decimal)\n",
    "        decimal_str = '.'+lower.split('.')[1]\n",
    "        codes = [lower.replace(decimal_str, '.'+str(num)) for num in nums]\n",
    "      else:\n",
    "        raise ValueError('The start code and the end code do not have the same number of decimals')\n",
    "    else:\n",
    "        codes = [lower.replace(lower_str, str(num).zfill(length)) for num in nums]\n",
    "    return codes\n",
    "\n",
    "\n",
    "# register the function to be used if if the input is a list of strings\n",
    "@expand_hyphen.register(list)\n",
    "def _(expr):\n",
    "  extended = []\n",
    "  for word in expr:\n",
    "    extended.extend(expand_hyphen(word))\n",
    "  return extended"
   ]
  },
  {
   "cell_type": "markdown",
   "metadata": {
    "colab_type": "text",
    "id": "OU1AIHQiRJRn"
   },
   "source": [
    "## expand star"
   ]
  },
  {
   "cell_type": "code",
   "execution_count": 0,
   "metadata": {
    "colab": {},
    "colab_type": "code",
    "id": "Rb0AiMPhd0Nj"
   },
   "outputs": [],
   "source": [
    "#export\n",
    "# A function to expand a string with star notation (K50*)\n",
    "# to list of all codes starting with K50\n",
    "\n",
    "@singledispatch\n",
    "def expand_star(code, all_codes=None):\n",
    "  \"\"\"\n",
    "  Expand expressions with star notation to a list of all values with the specified pattern\n",
    "\n",
    "  Args:\n",
    "    expr (str or list): Expression (or list of expressions) to be expanded\n",
    "    all_codes (list) : A list of all codes\n",
    "\n",
    "  Examples:\n",
    "    expand_star('K50*', all_codes=icd9)\n",
    "    expand_star('K*5', all_codes=icd9)\n",
    "    expand_star('*5', all_codes=icd9)\n",
    "\n",
    "  \"\"\"\n",
    "  raise ValueError('The argument must be a string or a list')\n",
    "\n",
    "@expand_star.register(str)\n",
    "def _(code, all_codes=None):\n",
    "  # return immediately if there is nothing to expand\n",
    "  if '*' not in code:\n",
    "    return [code]\n",
    "\n",
    "  start_str, end_str = code.split('*')\n",
    "\n",
    "  if start_str and end_str:\n",
    "    codes = {code for code in all_codes if (code.startswith(start_str) & code.endswith(end_str))}\n",
    "\n",
    "  if start_str:\n",
    "    codes = {code for code in all_codes if code.startswith(start_str)}\n",
    "\n",
    "  if end_str:\n",
    "    codes = {code for code in all_codes if code.endswith(end_str)}\n",
    "\n",
    "  return sorted(list(codes))\n",
    "\n",
    "@expand_star.register(list)\n",
    "def _(code, all_codes=None):\n",
    "\n",
    "  expanded=[]\n",
    "  for star_code in code:\n",
    "    new_codes = expand_star(star_code, all_codes=all_codes)\n",
    "    expanded.extend(new_codes)\n",
    "\n",
    "  # uniqify in case some overlap\n",
    "  expanded = list(set(expanded))\n",
    "\n",
    "  return sorted(expanded)"
   ]
  },
  {
   "cell_type": "markdown",
   "metadata": {
    "colab_type": "text",
    "id": "4T6rBQZsiwzT"
   },
   "source": [
    "## expand colon"
   ]
  },
  {
   "cell_type": "code",
   "execution_count": 0,
   "metadata": {
    "colab": {},
    "colab_type": "code",
    "id": "KTHKj3y3__kn"
   },
   "outputs": [],
   "source": [
    "#export\n",
    "# function to get all codes in a list between the specified start and end code\n",
    "# Example: Get all codes between K40:L52\n",
    "\n",
    "@singledispatch\n",
    "def expand_colon(code, all_codes=None):\n",
    "  raise ValueError('The argument must be a string or a list')\n",
    "\n",
    "@expand_colon.register(str)\n",
    "def _(code, all_codes=None):\n",
    "  \"\"\"\n",
    "  Expand expressions with colon notation to a list of complete code names\n",
    "  code (str or list): Expression (or list of expressions) to be expanded\n",
    "  all_codes (list or array) : The list to slice from\n",
    "\n",
    "  Examples\n",
    "    K50:K52\n",
    "    K50.5:K52.19\n",
    "    A3.0:A9.3\n",
    "\n",
    "  Note: This is different from hyphen and star notation because it can handle\n",
    "  different code lengths and different number of decimals\n",
    "\n",
    "  \"\"\"\n",
    "  if ':' not in code:\n",
    "    return [code]\n",
    "\n",
    "  startstr, endstr = code.split(':')\n",
    "\n",
    "  # remove spaces\n",
    "  startstr = startstr.strip()\n",
    "  endstr =endstr.strip()\n",
    "\n",
    "  # find start and end position\n",
    "  startpos = all_codes.index(startstr)\n",
    "  endpos = all_codes.index(endstr) + 1\n",
    "\n",
    "  # slice list\n",
    "  expanded = all_codes[startpos:endpos+1]\n",
    "\n",
    "  return expanded\n",
    "\n",
    "\n",
    "@expand_colon.register(list)\n",
    "def _(code, all_codes=None, regex=False):\n",
    "  expanded=[]\n",
    "\n",
    "  for cod in code:\n",
    "    new_codes = expand_colon(cod, all_codes=all_codes)\n",
    "    expanded.extend(new_codes)\n",
    "\n",
    "  return expanded"
   ]
  },
  {
   "cell_type": "markdown",
   "metadata": {
    "colab_type": "text",
    "id": "_WwFa6iai3Wq"
   },
   "source": [
    "## expand regex"
   ]
  },
  {
   "cell_type": "code",
   "execution_count": 0,
   "metadata": {
    "colab": {},
    "colab_type": "code",
    "id": "NbPMX0yS4Hmj"
   },
   "outputs": [],
   "source": [
    "#export\n",
    "# Return all elements in a list that fits a regex pattern\n",
    "\n",
    "@singledispatch\n",
    "def expand_regex(code, all_codes):\n",
    "  raise ValueError('The argument must be a string or a list of strings')\n",
    "\n",
    "@expand_regex.register(str)\n",
    "def _(code, all_codes=None):\n",
    "  code_regex = re.compile(code)\n",
    "  expanded = {code for code in all_codes if code_regex.match(code)}\n",
    "  # uniqify\n",
    "  expanded = list(set(expanded))\n",
    "  return expanded\n",
    "\n",
    "@expand_regex.register(list)\n",
    "def _(code, all_codes):\n",
    "  expanded=[]\n",
    "\n",
    "  for cod in code:\n",
    "    new_codes = expand_regex(cod, all_codes=all_codes)\n",
    "    expanded.extend(new_codes)\n",
    "\n",
    "  # uniqify in case some overlap\n",
    "  expanded = sorted(list(set(expanded)))\n",
    "\n",
    "  return expanded"
   ]
  },
  {
   "cell_type": "markdown",
   "metadata": {
    "colab_type": "text",
    "id": "iNZymQRsi8oW"
   },
   "source": [
    "## expand code"
   ]
  },
  {
   "cell_type": "code",
   "execution_count": 0,
   "metadata": {
    "colab": {},
    "colab_type": "code",
    "id": "RpZQsDVgu1hr"
   },
   "outputs": [],
   "source": [
    "#export\n",
    "@singledispatch\n",
    "def expand_code(code, all_codes=None,\n",
    "                hyphen=True, star=True, colon=True, regex=False,\n",
    "                drop_dot=False, drop_leading_zero=False,\n",
    "                sort_unique=True):\n",
    "  raise ValueError('The argument must be a string or a list of strings')\n",
    "\n",
    "@expand_code.register(str)\n",
    "def _(code, all_codes=None,\n",
    "      hyphen=True, star=True, colon=True, regex=False,\n",
    "      drop_dot=False, drop_leading_zero=False,\n",
    "      sort_unique=True):\n",
    "  #validating input\n",
    "  if (not regex) and (':' in code) and (('-' in code) or ('*' in code)):\n",
    "    raise ValueError('Notation using colon must start from and end in specific codes, not codes using star or hyphen')\n",
    "\n",
    "  if regex:\n",
    "    codes = expand_regex(code, all_codes=all_codes)\n",
    "    return codes\n",
    "\n",
    "  if drop_dot:\n",
    "    code = del_dot(code)\n",
    "\n",
    "  codes=[code]\n",
    "\n",
    "  if hyphen:\n",
    "    codes=expand_hyphen(code)\n",
    "  if star:\n",
    "    codes=expand_star(codes, all_codes=all_codes)\n",
    "  if colon:\n",
    "    codes=expand_colon(codes, all_codes=all_codes)\n",
    "\n",
    "  if sort_unique:\n",
    "    codes = sorted(list(set(codes)))\n",
    "\n",
    "  return codes\n",
    "\n",
    "@expand_code.register(list)\n",
    "def _(code, all_codes=None, hyphen=True, star=True, colon=True, regex=False,\n",
    "      drop_dot=False, drop_leading_zero=False,\n",
    "      sort_unique=True):\n",
    "\n",
    "  expanded=[]\n",
    "\n",
    "  for cod in code:\n",
    "    new_codes = expand_code(cod, all_codes=all_codes, hyphen=hyphen, star=star, colon=colon, regex=regex, drop_dot=drop_dot, drop_leading_zero=drop_leading_zero)\n",
    "    expanded.extend(new_codes)\n",
    "\n",
    "  # uniqify in case some overlap\n",
    "  expanded = list(set(expanded))\n",
    "\n",
    "  return sorted(expanded)"
   ]
  },
  {
   "cell_type": "markdown",
   "metadata": {
    "colab_type": "text",
    "id": "Q4E02nphLRAH"
   },
   "source": [
    "## expand columns"
   ]
  },
  {
   "cell_type": "code",
   "execution_count": 0,
   "metadata": {
    "colab": {},
    "colab_type": "code",
    "id": "PaSOcMjQLYHf"
   },
   "outputs": [],
   "source": [
    "#export\n",
    "def expand_columns(expr, all_columns=None, df=None, star=True,\n",
    "                   hyphen=True, colon=True, regex=None, info=None):\n",
    "    \"\"\"\n",
    "    Expand columns with special notation to their full column names\n",
    "\n",
    "    \"\"\"\n",
    "    notations = '* - :'.split()\n",
    "    # return immediately if not needed\n",
    "    if not any(symbol in expr for symbol in notations):\n",
    "      return [expr]\n",
    "\n",
    "    # get a list of columns of it is only implicity defined by the df\n",
    "    # warning: may depreciate this, require explicit all_columns\n",
    "    if df & (not all_columns):\n",
    "      all_columns=list(df.columns)\n",
    "\n",
    "    if regex:\n",
    "      cols = [col for col in all_columns if re.match(regex, expr)]\n",
    "    else:\n",
    "      if hyphen:\n",
    "        cols = expand_hyphen(expr)\n",
    "      if star:\n",
    "        cols = expand_star(expr, all_codes=all_columns)\n",
    "      if colon:\n",
    "        cols = expand_colon(expr, all_codes=all_columns)\n",
    "\n",
    "    return cols"
   ]
  },
  {
   "cell_type": "markdown",
   "metadata": {
    "colab_type": "text",
    "id": "sBlNB_bjFa0I"
   },
   "source": [
    "# More helper functions\n"
   ]
  },
  {
   "cell_type": "markdown",
   "metadata": {
    "colab_type": "text",
    "id": "cki3g2TkTPPY"
   },
   "source": [
    "## get rows"
   ]
  },
  {
   "cell_type": "code",
   "execution_count": 0,
   "metadata": {
    "colab": {},
    "colab_type": "code",
    "id": "sqIDq3lEiGsL"
   },
   "outputs": [],
   "source": [
    "#export\n",
    "# mark rows that contain certain codes in one or more colums\n",
    "def get_rows(df, codes, cols=None, sep=None, pid='pid', info=None, fix=True):\n",
    "  \"\"\"\n",
    "  Make a boolean series that is true for all rows that contain the codes\n",
    "\n",
    "  Args\n",
    "    df (dataframe or series): The dataframe with codes\n",
    "    codes (str, list, set, dict): codes to be counted\n",
    "    cols (str or list): list of columns to search in\n",
    "    sep (str): The symbol that seperates the codes if there are multiple codes in a cell\n",
    "    pid (str): The name of the column with the personal identifier\n",
    "\n",
    "  \"\"\"\n",
    "\n",
    "  # check if evaluated previously\n",
    "  info, rows = memory(info=info, func = 'get_rows', expr=codes)\n",
    "  if rows:\n",
    "    return rows\n",
    "\n",
    "  # check if codes and columns need to be expanded (needed if they use notation)\n",
    "  if fix:\n",
    "    # do this when if cols exist, but if it does not ...\n",
    "    cols = expand_columns(expr=cols, all_columns=list(df.columns), info=info)\n",
    "    all_codes = sorted(unique(df=df, cols=cols, sep=sep))\n",
    "    codes = expand_code(codes, all_codes=all_codes)\n",
    "\n",
    "  # codes and cols should be lists\n",
    "  codes = listify(codes)\n",
    "  cols = listify(cols)\n",
    "\n",
    "  # approach depends on whether we have multi-value cells or not\n",
    "  # if sep exist, then have multi-value cells\n",
    "  if sep:\n",
    "    # have multi-valued cells\n",
    "    # note: this assumes the sep is a regex word delimiter\n",
    "    codes = [rf'\\b{code}\\b' for code in codes]\n",
    "    codes_regex = '|'.join(codes)\n",
    "\n",
    "    # starting point: no codes have been found\n",
    "    # needed since otherwise the function might return None if no codes exist\n",
    "    rows = pd.Series(False*len(df),index=df.index)\n",
    "\n",
    "   # loop over all columns and mark when a code exist\n",
    "    for col in cols:\n",
    "      rows=rows | df[col].str.contains(codes_regex, na=False)\n",
    "\n",
    "  # if not multi valued cells\n",
    "  else:\n",
    "    mask = df[cols].isin(codes)\n",
    "    rows = mask.any(axis=1)\n",
    "  return rows"
   ]
  },
  {
   "cell_type": "markdown",
   "metadata": {
    "colab_type": "text",
    "id": "hBFksM_qU2Lv"
   },
   "source": [
    "## make codes"
   ]
  },
  {
   "cell_type": "code",
   "execution_count": 0,
   "metadata": {
    "colab": {},
    "colab_type": "code",
    "id": "96CSiOu7ied9"
   },
   "outputs": [],
   "source": [
    "#export\n",
    "def make_codes(n, letters=26, numbers=100, seed=False):\n",
    "  \"\"\"\n",
    "  Generate a dataframe with a column of random codes\n",
    "\n",
    "  Args:\n",
    "    letters (int): The number of different letters to use\n",
    "    numbers (int): The number of different numbers to use\n",
    "\n",
    "  Returns\n",
    "    A dataframe with a column with one or more codes in the rows\n",
    "\n",
    "  \"\"\"\n",
    "  # each code is assumed to consist of a letter and a number\n",
    "  alphabet = list('abcdefghigjklmnopqrstuvwxyz')\n",
    "  letters=alphabet[:letters+1]\n",
    "\n",
    "  # make random numbers same if seed is specified\n",
    "  if seed:\n",
    "    np.random.seed(0)\n",
    "\n",
    "  # determine the number of codes to be drawn for each event\n",
    "  n_codes=np.random.negative_binomial(1, p=0.3, size=n)\n",
    "  # avoid zero (all events have to have at least one code)\n",
    "  n_codes=n_codes+1\n",
    "\n",
    "  # for each event, randomly generate a the number of codes specified by n_codes\n",
    "  codes=[]\n",
    "  for i in n_codes:\n",
    "      diag = [np.random.choice(letters).upper()+\n",
    "              str(int(np.random.uniform(low=1, high=numbers)))\n",
    "              for num in range(i)]\n",
    "\n",
    "      code_string=','.join(diag)\n",
    "      codes.append(code_string)\n",
    "\n",
    "  # create a dataframe based on the list\n",
    "  df=pd.DataFrame(codes)\n",
    "  df.columns=['code']\n",
    "\n",
    "  return df"
   ]
  },
  {
   "cell_type": "code",
   "execution_count": 0,
   "metadata": {
    "colab": {},
    "colab_type": "code",
    "id": "f6Aej2nRyVX4"
   },
   "outputs": [],
   "source": [
    "make_codes(10)"
   ]
  },
  {
   "cell_type": "markdown",
   "metadata": {
    "colab_type": "text",
    "id": "gsxSAgv_VKr4"
   },
   "source": [
    "## make data"
   ]
  },
  {
   "cell_type": "code",
   "execution_count": 0,
   "metadata": {
    "colab": {},
    "colab_type": "code",
    "id": "K3H5egzAjapK"
   },
   "outputs": [],
   "source": [
    "#export\n",
    "def make_data(n, letters=26, numbers=100, seed=False):\n",
    "  \"\"\"\n",
    "  Generate a dataframe with a column of random codes\n",
    "\n",
    "  Args:\n",
    "    letters (int): The number of different letters to use\n",
    "    numbers (int): The number of different numbers to use\n",
    "\n",
    "  Returns\n",
    "    A dataframe with a column with one or more codes in the rows\n",
    "\n",
    "  \"\"\"\n",
    "  pid = range(n)\n",
    "  df_person=pd.DataFrame(index = pid)\n",
    "\n",
    "  #female = np.random.binomial(1, 0.5, size =n)\n",
    "  gender = np.random.choice(['male', 'female'], size=n)\n",
    "  region = np.random.choice(['north', 'south', 'east', 'west'], size=n)\n",
    "  birth_year = np.random.randint(1920, 1980, size=n)\n",
    "  birth_month = np.random.randint(1,12, size=n)\n",
    "  birth_day = np.random.randint(1,28, size=n) # ok, I know!\n",
    "  events_per_year = np.random.poisson(1, size=n)\n",
    "  years = 2020 - birth_year\n",
    "  events = years * events_per_year\n",
    "  events = np.where(events==0,1,events)\n",
    "  events = events.astype(int)\n",
    "  all_codes=[]\n",
    "  codes = [all_codes.extend(make_codes(n=n, letters=letters,\n",
    "                                       numbers=numbers,\n",
    "                                       seed=seed)['code'].tolist())\n",
    "          for n in events]\n",
    "\n",
    "  days_alive = (2020 - birth_year) *365\n",
    "\n",
    "  days_and_events = zip(days_alive.tolist(), events.tolist())\n",
    "  all_days=[]\n",
    "  days_after_birth = [all_days.extend(np.random.randint(0, max_day, size=n)) for max_day, n in days_and_events]\n",
    "  pid_and_events = zip(list(pid), events.tolist())\n",
    "  all_pids=[]\n",
    "  pids = [all_pids.extend([p+1]*e) for p, e in pid_and_events]\n",
    "\n",
    "  df_events = pd.DataFrame(index=all_pids)\n",
    "  df_events['codes'] = all_codes\n",
    "  df_events['days_after'] = all_days\n",
    "\n",
    "  #df_person['female'] = female\n",
    "  df_person['gender'] = gender\n",
    "\n",
    "  df_person['region'] = region\n",
    "  df_person['year'] = birth_year\n",
    "  df_person['month'] = birth_month\n",
    "  df_person['day'] = birth_day\n",
    "  df = df_events.merge(df_person, left_index=True, right_index=True)\n",
    "  df['birth_date'] = pd.to_datetime(df[['year', 'month', 'day']])\n",
    "  df['event_date'] = df['birth_date'] + pd.to_timedelta(df.days_after, unit='d')\n",
    "  del df['month']\n",
    "  del df['day']\n",
    "  del df['days_after']\n",
    "  df['pid'] = df.index\n",
    "  df.index_name = 'pid_index'\n",
    "  df=df[['pid', 'gender', 'birth_date', 'event_date', 'region', 'codes']]\n",
    "  # include deaths too?\n",
    "  return df"
   ]
  },
  {
   "cell_type": "code",
   "execution_count": 0,
   "metadata": {
    "colab": {},
    "colab_type": "code",
    "id": "AEo-95j2ydvm"
   },
   "outputs": [],
   "source": [
    "#df = make_data(n=1000)"
   ]
  },
  {
   "cell_type": "code",
   "execution_count": 0,
   "metadata": {
    "colab": {},
    "colab_type": "code",
    "id": "AX_5I3DKwZhO"
   },
   "outputs": [],
   "source": [
    "#df"
   ]
  },
  {
   "cell_type": "code",
   "execution_count": 0,
   "metadata": {
    "colab": {},
    "colab_type": "code",
    "id": "Vd6PxB8Cwx2p"
   },
   "outputs": [],
   "source": [
    "#count_person('max 2 L35')\n",
    "#count_person('x before y')"
   ]
  },
  {
   "cell_type": "markdown",
   "metadata": {
    "colab_type": "text",
    "id": "y-oIboIXyiGE"
   },
   "source": [
    "# formatting an expression"
   ]
  },
  {
   "cell_type": "markdown",
   "metadata": {
    "colab_type": "text",
    "id": "40vOED0gBIzs"
   },
   "source": [
    "## insert_external"
   ]
  },
  {
   "cell_type": "code",
   "execution_count": 0,
   "metadata": {
    "colab": {},
    "colab_type": "code",
    "id": "1TJu1M095GQo"
   },
   "outputs": [],
   "source": [
    "#export\n",
    "def insert_external(expr):\n",
    "  \"\"\"\n",
    "  Replaces variables prefixed with @ in the expression with the\n",
    "  value of the variable from the global namespace\n",
    "\n",
    "  Example:\n",
    "      x=['4AB02', '4AB04', '4AB06']\n",
    "      expr = '@x before 4AB02'\n",
    "      insert_external(expr)\n",
    "  \"\"\"\n",
    "  externals = [word.strip('@') for word in expr.split() if word.startswith('@')]\n",
    "  for external in externals:\n",
    "      tmp = globals()[external]\n",
    "      expr = expr.replace(f'@{external} ', f'{tmp} ')\n",
    "  return expr"
   ]
  },
  {
   "cell_type": "code",
   "execution_count": 0,
   "metadata": {
    "colab": {},
    "colab_type": "code",
    "id": "K5KRuGdK7RQv"
   },
   "outputs": [],
   "source": [
    "  x_1=['4AB02', '4AB04', '4AB06']\n",
    "  expr = '@x_1 before 4AB02'\n",
    "  insert_external(expr)"
   ]
  },
  {
   "cell_type": "markdown",
   "metadata": {
    "colab_type": "text",
    "id": "3kN7yEOqjm3V"
   },
   "source": [
    "# get inpatient data"
   ]
  },
  {
   "cell_type": "markdown",
   "metadata": {
    "colab_type": "text",
    "id": "fUwhTeAnzD6q"
   },
   "source": [
    "To test the functions and to calculate the Charslon index we need some data. Here we will use data on hospital visits from Medicare: \n"
   ]
  },
  {
   "cell_type": "code",
   "execution_count": 0,
   "metadata": {
    "colab": {},
    "colab_type": "code",
    "id": "3N_2p7tLShTi"
   },
   "outputs": [],
   "source": [
    "# Use pandas\n",
    "import pandas as pd"
   ]
  },
  {
   "cell_type": "code",
   "execution_count": 0,
   "metadata": {
    "colab": {},
    "colab_type": "code",
    "id": "q_jPK3K_0Vzu"
   },
   "outputs": [],
   "source": [
    "# Read synthetic medicare sample data on inpatient hospital stays\n",
    "path = 'https://www.cms.gov/Research-Statistics-Data-and-Systems/Downloadable-Public-Use-Files/SynPUFs/Downloads/'\n",
    "inpatient_file = 'DE1_0_2008_to_2010_Inpatient_Claims_Sample_1.zip'\n",
    "\n",
    "inpatient = pd.read_csv(path+inpatient_file)\n",
    "\n",
    "inpatient.columns = inpatient.columns.str.lower()\n",
    "# easier to use a column called 'pid' than 'desynpuf_id'\n",
    "inpatient['pid']=inpatient['desynpuf_id']\n",
    "\n",
    "#set index to the personal id, but also keep id as a column\n",
    "inpatient = inpatient.set_index('pid', drop=False)\n",
    "inpatient.index.name='pid_index'\n"
   ]
  },
  {
   "cell_type": "code",
   "execution_count": 0,
   "metadata": {
    "colab": {},
    "colab_type": "code",
    "id": "GY1LiGNUShT8"
   },
   "outputs": [],
   "source": [
    "# Have a look\n",
    "inpatient.head()"
   ]
  },
  {
   "cell_type": "code",
   "execution_count": 0,
   "metadata": {
    "colab": {},
    "colab_type": "code",
    "id": "MxQSMPBZMYXe"
   },
   "outputs": [],
   "source": [
    "# make a list of columns with information about diagnostic codes\n",
    "icd_cols = list(inpatient.columns[inpatient.columns.str.startswith('icd9_dgns_cd')])\n",
    "icd_cols"
   ]
  },
  {
   "cell_type": "markdown",
   "metadata": {
    "colab_type": "text",
    "id": "c23WbohBbO4R"
   },
   "source": [
    "Make a list of all unique ICD9 codes that exist, a all_codes:"
   ]
  },
  {
   "cell_type": "code",
   "execution_count": 0,
   "metadata": {
    "colab": {},
    "colab_type": "code",
    "id": "y2ObFcg_tlMV"
   },
   "outputs": [],
   "source": [
    "# Codes to calculate CCI using ICD-9 (CM, US, Enhanced)\n",
    "# Source: http://mchp-appserv.cpe.umanitoba.ca/concept/Charlson%20Comorbidities%20-%20Coding%20Algorithms%20for%20ICD-9-CM%20and%20ICD-10.pdf\n",
    "\n",
    "infarction = '''\n",
    "      410* \n",
    "      412*\n",
    "      '''\n",
    "\n",
    "heart_failure = '''\n",
    "        390.91 \n",
    "        402.21 402.11 402.91 \n",
    "        404.01 404.03 404.11 404.13 404.91 404.93 \n",
    "        425.4-425.9 \n",
    "        428*\n",
    "        '''\n",
    "\n",
    "peripheral_vascular = '''\n",
    "        093.0\n",
    "        437.3\n",
    "        440*\n",
    "        441*\n",
    "        443.1-443.9\n",
    "        447.1\n",
    "        557.1 557.9\n",
    "        V43.4\n",
    "        '''\n",
    "\n",
    "cerebrovascular = '''\n",
    "        362.34\n",
    "        430*-438*\n",
    "        '''\n",
    "dementia = '''\n",
    "        290*\n",
    "        294.1\n",
    "        331.2\n",
    "        '''\n",
    "\n",
    "pulmonary ='''\n",
    "      416.8 416.9\n",
    "      490*-505* \n",
    "      506.4\n",
    "      508.1 508.8\n",
    "      '''\n",
    "rheumatic = '''\n",
    "      446.5\n",
    "      710.0-710.4\n",
    "      714.0-714.2 714.8\n",
    "      725*\n",
    "      '''\n",
    "\n",
    "peptic_ulcer = '531*-534*'\n",
    "\n",
    "liver_mild ='''\n",
    "      070.22\n",
    "      070.23\n",
    "      070.32\n",
    "      070.33\n",
    "      070.44\n",
    "      070.54\n",
    "      070.6\n",
    "      070.9\n",
    "      570.*\n",
    "      571.*\n",
    "      573.3 573.4 573.8 573.9\n",
    "      V42.7\n",
    "      '''\n",
    "# Interesting, diabetes seems to be 5 digits long in the data, but not the specified codes\n",
    "diabetes_without_complication = '250.0*-250.3* 250.8* 250.9*'\n",
    "\n",
    "diabetes_with_complication = '250.4*-250.7*'\n",
    "\n",
    "plegia = '''\n",
    "    334.1\n",
    "    342.*\n",
    "    343.*\n",
    "    344.0-344.6\n",
    "    344.9\n",
    "    '''\n",
    "\n",
    "renal = '''\n",
    "    403.01 403.11,403.91 \n",
    "    404.02 404.03 404.12 404.13 404.92 404.93\n",
    "    582.*  \n",
    "    583.0-583.7\n",
    "    585*\n",
    "    586*\n",
    "    588.0\n",
    "    V42.0\n",
    "    V45.1\n",
    "    V56*\n",
    "    '''\n",
    "\n",
    "malignancy = '''\n",
    "    140*-172*\n",
    "    174.0-195.8\n",
    "    200*-208*\n",
    "    238.6\n",
    "    '''\n",
    "\n",
    "liver_not_mild = '''\n",
    "    456.0-456.2\n",
    "    572.2-572.8\n",
    "    '''\n",
    "\n",
    "tumor = '196*-199*'\n",
    "\n",
    "hiv = '042*-044*'"
   ]
  },
  {
   "cell_type": "markdown",
   "metadata": {
    "colab_type": "text",
    "id": "Lbo8b7wixGH7"
   },
   "source": [
    "Put all the strings that describe the codes for the comorbitities in a single datastructure:"
   ]
  },
  {
   "cell_type": "code",
   "execution_count": 0,
   "metadata": {
    "colab": {},
    "colab_type": "code",
    "id": "x-kLY3dNzfRZ"
   },
   "outputs": [],
   "source": [
    "icd9 = unique(df=inpatient, cols = icd_cols, all_str=True)"
   ]
  },
  {
   "cell_type": "code",
   "execution_count": 0,
   "metadata": {
    "colab": {},
    "colab_type": "code",
    "id": "mslB-ZEuxjnm"
   },
   "outputs": [],
   "source": [
    "# A dictionary with names of cormobitities and the associated medical codes\n",
    "\n",
    "code_string = { 'infarction' : infarction, \n",
    "               'heart_failure' : heart_failure, \n",
    "               'peripheral_vascular' : peripheral_vascular, \n",
    "               'cerebrovascular' : cerebrovascular, \n",
    "               'dementia' : dementia, \n",
    "               'pulmonary' : pulmonary, \n",
    "               'rheumatic' : rheumatic, \n",
    "               'peptic_ulcer' : peptic_ulcer, \n",
    "               'liver_mild' : liver_mild, \n",
    "               'diabetes_without_complication' : diabetes_without_complication, \n",
    "               'diabetes_with_complication' : diabetes_with_complication, \n",
    "               'plegia' : plegia, \n",
    "               'renal' : renal, \n",
    "               'malignancy' : malignancy, \n",
    "               'liver_not_mild' : liver_not_mild, \n",
    "               'tumor' : tumor, \n",
    "               'hiv' : hiv}"
   ]
  },
  {
   "cell_type": "markdown",
   "metadata": {
    "colab_type": "text",
    "id": "ctiAl4mHbve-"
   },
   "source": [
    "Having created a all_codes, we can use the functions we have created to expand the description for all the different comorbidities to include all the specific codes:"
   ]
  },
  {
   "cell_type": "code",
   "execution_count": 0,
   "metadata": {
    "colab": {},
    "colab_type": "code",
    "id": "l_YMP5Ukbwrv"
   },
   "outputs": [],
   "source": [
    "codes = {disease : expand_code(codes.split(), \n",
    "                               all_codes=icd9,\n",
    "                               drop_dot=True,\n",
    "                               drop_leading_zero=True) \n",
    "        for disease, codes in code_string.items()}"
   ]
  },
  {
   "cell_type": "markdown",
   "metadata": {
    "colab_type": "text",
    "id": "mqLowQI6z9U-"
   },
   "source": [
    "And we can check if it really expanded the codes, for instance by examining the codes for mild liver disease:"
   ]
  },
  {
   "cell_type": "code",
   "execution_count": 0,
   "metadata": {
    "colab": {},
    "colab_type": "code",
    "id": "POf4RSz0u20L"
   },
   "outputs": [],
   "source": [
    "codes['liver_mild']"
   ]
  },
  {
   "cell_type": "markdown",
   "metadata": {
    "colab_type": "text",
    "id": "YXrRqq6xrkHP"
   },
   "source": [
    "In order to do the calculations, we need the weights associated with each comorbidity. These weights are related to the predictive power of the comorbididy for the probability of dying in a given time period. There are a few different standards, but with relatively minor varitions. Here we use the following:\n"
   ]
  },
  {
   "cell_type": "code",
   "execution_count": 0,
   "metadata": {
    "colab": {},
    "colab_type": "code",
    "id": "7EKmvFTdx8qT"
   },
   "outputs": [],
   "source": [
    "charlson_points = { 'infarction': 1, \n",
    "                   'heart_failure': 1, \n",
    "                   'peripheral_vascular': 1, \n",
    "                   'cerebrovascular': 1, \n",
    "                   'dementia': 1, \n",
    "                   'pulmonary': 1, \n",
    "                   'rheumatic': 1, \n",
    "                   'peptic_ulcer': 1, \n",
    "                   'liver_mild': 1, \n",
    "                   'diabetes_without_complication': 1, \n",
    "                   'diabetes_with_complication': 2, \n",
    "                   'plegia': 2, \n",
    "                   'renal': 2, \n",
    "                   'malignancy': 2, \n",
    "                   'liver_not_mild': 3, \n",
    "                   'tumor': 6, \n",
    "                   'hiv': 6}\n"
   ]
  },
  {
   "cell_type": "markdown",
   "metadata": {
    "colab_type": "text",
    "id": "wghaUi_Fj2SS"
   },
   "source": [
    "We also need the function that takes a set of codes and identifies the rows and persons who have the codes (a function we developed in a previous notebook):"
   ]
  },
  {
   "cell_type": "code",
   "execution_count": null,
   "metadata": {},
   "outputs": [],
   "source": [
    "#hide\n",
    "from nbdev.showdoc import *"
   ]
  },
  {
   "cell_type": "code",
   "execution_count": 1,
   "metadata": {},
   "outputs": [
    {
     "name": "stdout",
     "output_type": "stream",
     "text": [
      "Converted 00_core.ipynb.\n",
      "Converted index.ipynb.\n",
      "Converted query_language.ipynb.\n"
     ]
    }
   ],
   "source": [
    "from nbdev.export import *\n",
    "notebook2script()"
   ]
  },
  {
   "cell_type": "code",
   "execution_count": null,
   "metadata": {},
   "outputs": [],
   "source": []
  },
  {
   "cell_type": "code",
   "execution_count": 2,
   "metadata": {},
   "outputs": [],
   "source": [
    "import nbdev"
   ]
  },
  {
   "cell_type": "code",
   "execution_count": 3,
   "metadata": {},
   "outputs": [],
   "source": [
    "from nbdev.sync import script2notebook "
   ]
  },
  {
   "cell_type": "code",
   "execution_count": null,
   "metadata": {},
   "outputs": [],
   "source": [
    "script2not"
   ]
  }
 ],
 "metadata": {
  "colab": {
   "collapsed_sections": [],
   "name": "query language v1",
   "provenance": [],
   "toc_visible": true
  },
  "kernelspec": {
   "display_name": "Python 3",
   "language": "python",
   "name": "python3"
  },
  "language_info": {
   "codemirror_mode": {
    "name": "ipython",
    "version": 3
   },
   "file_extension": ".py",
   "mimetype": "text/x-python",
   "name": "python",
   "nbconvert_exporter": "python",
   "pygments_lexer": "ipython3",
   "version": "3.7.1"
  },
  "varInspector": {
   "cols": {
    "lenName": 16,
    "lenType": 16,
    "lenVar": 40
   },
   "kernels_config": {
    "python": {
     "delete_cmd_postfix": "",
     "delete_cmd_prefix": "del ",
     "library": "var_list.py",
     "varRefreshCmd": "print(var_dic_list())"
    },
    "r": {
     "delete_cmd_postfix": ") ",
     "delete_cmd_prefix": "rm(",
     "library": "var_list.r",
     "varRefreshCmd": "cat(var_dic_list()) "
    }
   },
   "types_to_exclude": [
    "module",
    "function",
    "builtin_function_or_method",
    "instance",
    "_Feature"
   ],
   "window_display": false
  }
 },
 "nbformat": 4,
 "nbformat_minor": 1
}
